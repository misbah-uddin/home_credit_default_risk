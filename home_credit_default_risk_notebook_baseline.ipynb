{
 "cells": [
  {
   "cell_type": "markdown",
   "metadata": {},
   "source": [
    "# Problem Definition\n",
    "\n",
    "Many people struggle to get loans due to insufficient or non-existent credit histories. And, unfortunately, this population is often taken advantage of by untrustworthy lenders.\n",
    "\n",
    "- Home Credit Group\n",
    "\n",
    "Home Credit strives to broaden financial inclusion for the unbanked population by providing a positive and safe borrowing experience. In order to make sure this underserved population has a positive loan experience, Home Credit makes use of a variety of alternative data--including telco and transactional information--to predict their clients' repayment abilities.\n",
    "\n",
    "While Home Credit is currently using various statistical and machine learning methods to make these predictions, they're challenging Kagglers to help them unlock the full potential of their data. Doing so will ensure that clients capable of repayment are not rejected and that loans are given with a principal, maturity, and repayment calendar that will empower their clients to be successful."
   ]
  },
  {
   "cell_type": "markdown",
   "metadata": {},
   "source": [
    "### Data Description\n",
    "\n",
    "See https://www.kaggle.com/c/home-credit-default-risk/data\n",
    "\n",
    "There are 7 different sources of data:\n",
    "\n",
    "* <b>application_train.csv</b>: contains the main training data with information about each loan application at Home Credit. Every loan has its own row and is identified by the feature `SK_ID_CURR`. The training application data comes with the `TARGET` indicating 0 (the loan was repaid) or 1 (the loan was not repaid). \n",
    "* <b>application_test.csv</b>: contains the main testing data with information about each loan application at Home Credit. Every loan has its own row and is identified by the feature `SK_ID_CURR`. "
   ]
  },
  {
   "cell_type": "markdown",
   "metadata": {},
   "source": [
    "#### Imports"
   ]
  },
  {
   "cell_type": "code",
   "execution_count": 28,
   "metadata": {
    "collapsed": true
   },
   "outputs": [],
   "source": [
    "import numpy as np\n",
    "import pandas as pd\n",
    "\n",
    "from sklearn.preprocessing import OneHotEncoder, Imputer, PolynomialFeatures, MinMaxScaler\n",
    "from sklearn.linear_model import LogisticRegression"
   ]
  },
  {
   "cell_type": "markdown",
   "metadata": {
    "collapsed": true
   },
   "source": [
    "# Data"
   ]
  },
  {
   "cell_type": "markdown",
   "metadata": {},
   "source": [
    "#### Main train data"
   ]
  },
  {
   "cell_type": "code",
   "execution_count": 2,
   "metadata": {
    "collapsed": true
   },
   "outputs": [],
   "source": [
    "def get_train_data(path: str, target_name: str) -> tuple:\n",
    "    df = pd.read_csv(path)\n",
    "    target = df[target_name]    \n",
    "    features = df.drop(target_name, axis=1)\n",
    "    return features, target"
   ]
  },
  {
   "cell_type": "code",
   "execution_count": 3,
   "metadata": {},
   "outputs": [],
   "source": [
    "path = 'data/application_train.csv'\n",
    "target_name = 'TARGET'\n",
    "train_features, train_target = get_train_data(path, target_name)"
   ]
  },
  {
   "cell_type": "code",
   "execution_count": 4,
   "metadata": {},
   "outputs": [
    {
     "data": {
      "text/plain": [
       "((307511, 121), (307511,))"
      ]
     },
     "execution_count": 4,
     "metadata": {},
     "output_type": "execute_result"
    }
   ],
   "source": [
    "train_features.shape, train_target.shape"
   ]
  },
  {
   "cell_type": "code",
   "execution_count": 5,
   "metadata": {},
   "outputs": [
    {
     "data": {
      "text/html": [
       "<div>\n",
       "<style>\n",
       "    .dataframe thead tr:only-child th {\n",
       "        text-align: right;\n",
       "    }\n",
       "\n",
       "    .dataframe thead th {\n",
       "        text-align: left;\n",
       "    }\n",
       "\n",
       "    .dataframe tbody tr th {\n",
       "        vertical-align: top;\n",
       "    }\n",
       "</style>\n",
       "<table border=\"1\" class=\"dataframe\">\n",
       "  <thead>\n",
       "    <tr style=\"text-align: right;\">\n",
       "      <th></th>\n",
       "      <th>SK_ID_CURR</th>\n",
       "      <th>NAME_CONTRACT_TYPE</th>\n",
       "      <th>CODE_GENDER</th>\n",
       "      <th>FLAG_OWN_CAR</th>\n",
       "      <th>FLAG_OWN_REALTY</th>\n",
       "      <th>CNT_CHILDREN</th>\n",
       "      <th>AMT_INCOME_TOTAL</th>\n",
       "      <th>AMT_CREDIT</th>\n",
       "      <th>AMT_ANNUITY</th>\n",
       "      <th>AMT_GOODS_PRICE</th>\n",
       "      <th>...</th>\n",
       "      <th>FLAG_DOCUMENT_18</th>\n",
       "      <th>FLAG_DOCUMENT_19</th>\n",
       "      <th>FLAG_DOCUMENT_20</th>\n",
       "      <th>FLAG_DOCUMENT_21</th>\n",
       "      <th>AMT_REQ_CREDIT_BUREAU_HOUR</th>\n",
       "      <th>AMT_REQ_CREDIT_BUREAU_DAY</th>\n",
       "      <th>AMT_REQ_CREDIT_BUREAU_WEEK</th>\n",
       "      <th>AMT_REQ_CREDIT_BUREAU_MON</th>\n",
       "      <th>AMT_REQ_CREDIT_BUREAU_QRT</th>\n",
       "      <th>AMT_REQ_CREDIT_BUREAU_YEAR</th>\n",
       "    </tr>\n",
       "  </thead>\n",
       "  <tbody>\n",
       "    <tr>\n",
       "      <th>0</th>\n",
       "      <td>100002</td>\n",
       "      <td>Cash loans</td>\n",
       "      <td>M</td>\n",
       "      <td>N</td>\n",
       "      <td>Y</td>\n",
       "      <td>0</td>\n",
       "      <td>202500.0</td>\n",
       "      <td>406597.5</td>\n",
       "      <td>24700.5</td>\n",
       "      <td>351000.0</td>\n",
       "      <td>...</td>\n",
       "      <td>0</td>\n",
       "      <td>0</td>\n",
       "      <td>0</td>\n",
       "      <td>0</td>\n",
       "      <td>0.0</td>\n",
       "      <td>0.0</td>\n",
       "      <td>0.0</td>\n",
       "      <td>0.0</td>\n",
       "      <td>0.0</td>\n",
       "      <td>1.0</td>\n",
       "    </tr>\n",
       "    <tr>\n",
       "      <th>1</th>\n",
       "      <td>100003</td>\n",
       "      <td>Cash loans</td>\n",
       "      <td>F</td>\n",
       "      <td>N</td>\n",
       "      <td>N</td>\n",
       "      <td>0</td>\n",
       "      <td>270000.0</td>\n",
       "      <td>1293502.5</td>\n",
       "      <td>35698.5</td>\n",
       "      <td>1129500.0</td>\n",
       "      <td>...</td>\n",
       "      <td>0</td>\n",
       "      <td>0</td>\n",
       "      <td>0</td>\n",
       "      <td>0</td>\n",
       "      <td>0.0</td>\n",
       "      <td>0.0</td>\n",
       "      <td>0.0</td>\n",
       "      <td>0.0</td>\n",
       "      <td>0.0</td>\n",
       "      <td>0.0</td>\n",
       "    </tr>\n",
       "    <tr>\n",
       "      <th>2</th>\n",
       "      <td>100004</td>\n",
       "      <td>Revolving loans</td>\n",
       "      <td>M</td>\n",
       "      <td>Y</td>\n",
       "      <td>Y</td>\n",
       "      <td>0</td>\n",
       "      <td>67500.0</td>\n",
       "      <td>135000.0</td>\n",
       "      <td>6750.0</td>\n",
       "      <td>135000.0</td>\n",
       "      <td>...</td>\n",
       "      <td>0</td>\n",
       "      <td>0</td>\n",
       "      <td>0</td>\n",
       "      <td>0</td>\n",
       "      <td>0.0</td>\n",
       "      <td>0.0</td>\n",
       "      <td>0.0</td>\n",
       "      <td>0.0</td>\n",
       "      <td>0.0</td>\n",
       "      <td>0.0</td>\n",
       "    </tr>\n",
       "    <tr>\n",
       "      <th>3</th>\n",
       "      <td>100006</td>\n",
       "      <td>Cash loans</td>\n",
       "      <td>F</td>\n",
       "      <td>N</td>\n",
       "      <td>Y</td>\n",
       "      <td>0</td>\n",
       "      <td>135000.0</td>\n",
       "      <td>312682.5</td>\n",
       "      <td>29686.5</td>\n",
       "      <td>297000.0</td>\n",
       "      <td>...</td>\n",
       "      <td>0</td>\n",
       "      <td>0</td>\n",
       "      <td>0</td>\n",
       "      <td>0</td>\n",
       "      <td>NaN</td>\n",
       "      <td>NaN</td>\n",
       "      <td>NaN</td>\n",
       "      <td>NaN</td>\n",
       "      <td>NaN</td>\n",
       "      <td>NaN</td>\n",
       "    </tr>\n",
       "    <tr>\n",
       "      <th>4</th>\n",
       "      <td>100007</td>\n",
       "      <td>Cash loans</td>\n",
       "      <td>M</td>\n",
       "      <td>N</td>\n",
       "      <td>Y</td>\n",
       "      <td>0</td>\n",
       "      <td>121500.0</td>\n",
       "      <td>513000.0</td>\n",
       "      <td>21865.5</td>\n",
       "      <td>513000.0</td>\n",
       "      <td>...</td>\n",
       "      <td>0</td>\n",
       "      <td>0</td>\n",
       "      <td>0</td>\n",
       "      <td>0</td>\n",
       "      <td>0.0</td>\n",
       "      <td>0.0</td>\n",
       "      <td>0.0</td>\n",
       "      <td>0.0</td>\n",
       "      <td>0.0</td>\n",
       "      <td>0.0</td>\n",
       "    </tr>\n",
       "  </tbody>\n",
       "</table>\n",
       "<p>5 rows × 121 columns</p>\n",
       "</div>"
      ],
      "text/plain": [
       "   SK_ID_CURR NAME_CONTRACT_TYPE CODE_GENDER FLAG_OWN_CAR FLAG_OWN_REALTY  \\\n",
       "0      100002         Cash loans           M            N               Y   \n",
       "1      100003         Cash loans           F            N               N   \n",
       "2      100004    Revolving loans           M            Y               Y   \n",
       "3      100006         Cash loans           F            N               Y   \n",
       "4      100007         Cash loans           M            N               Y   \n",
       "\n",
       "   CNT_CHILDREN  AMT_INCOME_TOTAL  AMT_CREDIT  AMT_ANNUITY  AMT_GOODS_PRICE  \\\n",
       "0             0          202500.0    406597.5      24700.5         351000.0   \n",
       "1             0          270000.0   1293502.5      35698.5        1129500.0   \n",
       "2             0           67500.0    135000.0       6750.0         135000.0   \n",
       "3             0          135000.0    312682.5      29686.5         297000.0   \n",
       "4             0          121500.0    513000.0      21865.5         513000.0   \n",
       "\n",
       "              ...             FLAG_DOCUMENT_18 FLAG_DOCUMENT_19  \\\n",
       "0             ...                            0                0   \n",
       "1             ...                            0                0   \n",
       "2             ...                            0                0   \n",
       "3             ...                            0                0   \n",
       "4             ...                            0                0   \n",
       "\n",
       "  FLAG_DOCUMENT_20 FLAG_DOCUMENT_21 AMT_REQ_CREDIT_BUREAU_HOUR  \\\n",
       "0                0                0                        0.0   \n",
       "1                0                0                        0.0   \n",
       "2                0                0                        0.0   \n",
       "3                0                0                        NaN   \n",
       "4                0                0                        0.0   \n",
       "\n",
       "   AMT_REQ_CREDIT_BUREAU_DAY  AMT_REQ_CREDIT_BUREAU_WEEK  \\\n",
       "0                        0.0                         0.0   \n",
       "1                        0.0                         0.0   \n",
       "2                        0.0                         0.0   \n",
       "3                        NaN                         NaN   \n",
       "4                        0.0                         0.0   \n",
       "\n",
       "   AMT_REQ_CREDIT_BUREAU_MON  AMT_REQ_CREDIT_BUREAU_QRT  \\\n",
       "0                        0.0                        0.0   \n",
       "1                        0.0                        0.0   \n",
       "2                        0.0                        0.0   \n",
       "3                        NaN                        NaN   \n",
       "4                        0.0                        0.0   \n",
       "\n",
       "   AMT_REQ_CREDIT_BUREAU_YEAR  \n",
       "0                         1.0  \n",
       "1                         0.0  \n",
       "2                         0.0  \n",
       "3                         NaN  \n",
       "4                         0.0  \n",
       "\n",
       "[5 rows x 121 columns]"
      ]
     },
     "execution_count": 5,
     "metadata": {},
     "output_type": "execute_result"
    }
   ],
   "source": [
    "train_features.head()"
   ]
  },
  {
   "cell_type": "code",
   "execution_count": 6,
   "metadata": {},
   "outputs": [
    {
     "data": {
      "text/plain": [
       "0    1\n",
       "1    0\n",
       "2    0\n",
       "3    0\n",
       "4    0\n",
       "Name: TARGET, dtype: int64"
      ]
     },
     "execution_count": 6,
     "metadata": {},
     "output_type": "execute_result"
    }
   ],
   "source": [
    "train_target.head()"
   ]
  },
  {
   "cell_type": "markdown",
   "metadata": {},
   "source": [
    "#### Test data"
   ]
  },
  {
   "cell_type": "code",
   "execution_count": 7,
   "metadata": {},
   "outputs": [
    {
     "data": {
      "text/plain": [
       "(48744, 121)"
      ]
     },
     "execution_count": 7,
     "metadata": {},
     "output_type": "execute_result"
    }
   ],
   "source": [
    "test_features = pd.read_csv(\"data/application_test.csv\")\n",
    "test_features.shape"
   ]
  },
  {
   "cell_type": "code",
   "execution_count": 36,
   "metadata": {},
   "outputs": [
    {
     "data": {
      "text/html": [
       "<div>\n",
       "<style>\n",
       "    .dataframe thead tr:only-child th {\n",
       "        text-align: right;\n",
       "    }\n",
       "\n",
       "    .dataframe thead th {\n",
       "        text-align: left;\n",
       "    }\n",
       "\n",
       "    .dataframe tbody tr th {\n",
       "        vertical-align: top;\n",
       "    }\n",
       "</style>\n",
       "<table border=\"1\" class=\"dataframe\">\n",
       "  <thead>\n",
       "    <tr style=\"text-align: right;\">\n",
       "      <th></th>\n",
       "      <th>SK_ID_CURR</th>\n",
       "      <th>NAME_CONTRACT_TYPE</th>\n",
       "      <th>CODE_GENDER</th>\n",
       "      <th>FLAG_OWN_CAR</th>\n",
       "      <th>FLAG_OWN_REALTY</th>\n",
       "      <th>CNT_CHILDREN</th>\n",
       "      <th>AMT_INCOME_TOTAL</th>\n",
       "      <th>AMT_CREDIT</th>\n",
       "      <th>AMT_ANNUITY</th>\n",
       "      <th>AMT_GOODS_PRICE</th>\n",
       "      <th>...</th>\n",
       "      <th>FLAG_DOCUMENT_18</th>\n",
       "      <th>FLAG_DOCUMENT_19</th>\n",
       "      <th>FLAG_DOCUMENT_20</th>\n",
       "      <th>FLAG_DOCUMENT_21</th>\n",
       "      <th>AMT_REQ_CREDIT_BUREAU_HOUR</th>\n",
       "      <th>AMT_REQ_CREDIT_BUREAU_DAY</th>\n",
       "      <th>AMT_REQ_CREDIT_BUREAU_WEEK</th>\n",
       "      <th>AMT_REQ_CREDIT_BUREAU_MON</th>\n",
       "      <th>AMT_REQ_CREDIT_BUREAU_QRT</th>\n",
       "      <th>AMT_REQ_CREDIT_BUREAU_YEAR</th>\n",
       "    </tr>\n",
       "  </thead>\n",
       "  <tbody>\n",
       "    <tr>\n",
       "      <th>0</th>\n",
       "      <td>100001</td>\n",
       "      <td>Cash loans</td>\n",
       "      <td>F</td>\n",
       "      <td>N</td>\n",
       "      <td>Y</td>\n",
       "      <td>0</td>\n",
       "      <td>135000.0</td>\n",
       "      <td>568800.0</td>\n",
       "      <td>20560.5</td>\n",
       "      <td>450000.0</td>\n",
       "      <td>...</td>\n",
       "      <td>0</td>\n",
       "      <td>0</td>\n",
       "      <td>0</td>\n",
       "      <td>0</td>\n",
       "      <td>0.0</td>\n",
       "      <td>0.0</td>\n",
       "      <td>0.0</td>\n",
       "      <td>0.0</td>\n",
       "      <td>0.0</td>\n",
       "      <td>0.0</td>\n",
       "    </tr>\n",
       "    <tr>\n",
       "      <th>1</th>\n",
       "      <td>100005</td>\n",
       "      <td>Cash loans</td>\n",
       "      <td>M</td>\n",
       "      <td>N</td>\n",
       "      <td>Y</td>\n",
       "      <td>0</td>\n",
       "      <td>99000.0</td>\n",
       "      <td>222768.0</td>\n",
       "      <td>17370.0</td>\n",
       "      <td>180000.0</td>\n",
       "      <td>...</td>\n",
       "      <td>0</td>\n",
       "      <td>0</td>\n",
       "      <td>0</td>\n",
       "      <td>0</td>\n",
       "      <td>0.0</td>\n",
       "      <td>0.0</td>\n",
       "      <td>0.0</td>\n",
       "      <td>0.0</td>\n",
       "      <td>0.0</td>\n",
       "      <td>3.0</td>\n",
       "    </tr>\n",
       "    <tr>\n",
       "      <th>2</th>\n",
       "      <td>100013</td>\n",
       "      <td>Cash loans</td>\n",
       "      <td>M</td>\n",
       "      <td>Y</td>\n",
       "      <td>Y</td>\n",
       "      <td>0</td>\n",
       "      <td>202500.0</td>\n",
       "      <td>663264.0</td>\n",
       "      <td>69777.0</td>\n",
       "      <td>630000.0</td>\n",
       "      <td>...</td>\n",
       "      <td>0</td>\n",
       "      <td>0</td>\n",
       "      <td>0</td>\n",
       "      <td>0</td>\n",
       "      <td>0.0</td>\n",
       "      <td>0.0</td>\n",
       "      <td>0.0</td>\n",
       "      <td>0.0</td>\n",
       "      <td>1.0</td>\n",
       "      <td>4.0</td>\n",
       "    </tr>\n",
       "    <tr>\n",
       "      <th>3</th>\n",
       "      <td>100028</td>\n",
       "      <td>Cash loans</td>\n",
       "      <td>F</td>\n",
       "      <td>N</td>\n",
       "      <td>Y</td>\n",
       "      <td>2</td>\n",
       "      <td>315000.0</td>\n",
       "      <td>1575000.0</td>\n",
       "      <td>49018.5</td>\n",
       "      <td>1575000.0</td>\n",
       "      <td>...</td>\n",
       "      <td>0</td>\n",
       "      <td>0</td>\n",
       "      <td>0</td>\n",
       "      <td>0</td>\n",
       "      <td>0.0</td>\n",
       "      <td>0.0</td>\n",
       "      <td>0.0</td>\n",
       "      <td>0.0</td>\n",
       "      <td>0.0</td>\n",
       "      <td>3.0</td>\n",
       "    </tr>\n",
       "    <tr>\n",
       "      <th>4</th>\n",
       "      <td>100038</td>\n",
       "      <td>Cash loans</td>\n",
       "      <td>M</td>\n",
       "      <td>Y</td>\n",
       "      <td>N</td>\n",
       "      <td>1</td>\n",
       "      <td>180000.0</td>\n",
       "      <td>625500.0</td>\n",
       "      <td>32067.0</td>\n",
       "      <td>625500.0</td>\n",
       "      <td>...</td>\n",
       "      <td>0</td>\n",
       "      <td>0</td>\n",
       "      <td>0</td>\n",
       "      <td>0</td>\n",
       "      <td>NaN</td>\n",
       "      <td>NaN</td>\n",
       "      <td>NaN</td>\n",
       "      <td>NaN</td>\n",
       "      <td>NaN</td>\n",
       "      <td>NaN</td>\n",
       "    </tr>\n",
       "  </tbody>\n",
       "</table>\n",
       "<p>5 rows × 121 columns</p>\n",
       "</div>"
      ],
      "text/plain": [
       "   SK_ID_CURR NAME_CONTRACT_TYPE CODE_GENDER FLAG_OWN_CAR FLAG_OWN_REALTY  \\\n",
       "0      100001         Cash loans           F            N               Y   \n",
       "1      100005         Cash loans           M            N               Y   \n",
       "2      100013         Cash loans           M            Y               Y   \n",
       "3      100028         Cash loans           F            N               Y   \n",
       "4      100038         Cash loans           M            Y               N   \n",
       "\n",
       "   CNT_CHILDREN  AMT_INCOME_TOTAL  AMT_CREDIT  AMT_ANNUITY  AMT_GOODS_PRICE  \\\n",
       "0             0          135000.0    568800.0      20560.5         450000.0   \n",
       "1             0           99000.0    222768.0      17370.0         180000.0   \n",
       "2             0          202500.0    663264.0      69777.0         630000.0   \n",
       "3             2          315000.0   1575000.0      49018.5        1575000.0   \n",
       "4             1          180000.0    625500.0      32067.0         625500.0   \n",
       "\n",
       "              ...             FLAG_DOCUMENT_18 FLAG_DOCUMENT_19  \\\n",
       "0             ...                            0                0   \n",
       "1             ...                            0                0   \n",
       "2             ...                            0                0   \n",
       "3             ...                            0                0   \n",
       "4             ...                            0                0   \n",
       "\n",
       "  FLAG_DOCUMENT_20 FLAG_DOCUMENT_21 AMT_REQ_CREDIT_BUREAU_HOUR  \\\n",
       "0                0                0                        0.0   \n",
       "1                0                0                        0.0   \n",
       "2                0                0                        0.0   \n",
       "3                0                0                        0.0   \n",
       "4                0                0                        NaN   \n",
       "\n",
       "   AMT_REQ_CREDIT_BUREAU_DAY  AMT_REQ_CREDIT_BUREAU_WEEK  \\\n",
       "0                        0.0                         0.0   \n",
       "1                        0.0                         0.0   \n",
       "2                        0.0                         0.0   \n",
       "3                        0.0                         0.0   \n",
       "4                        NaN                         NaN   \n",
       "\n",
       "   AMT_REQ_CREDIT_BUREAU_MON  AMT_REQ_CREDIT_BUREAU_QRT  \\\n",
       "0                        0.0                        0.0   \n",
       "1                        0.0                        0.0   \n",
       "2                        0.0                        1.0   \n",
       "3                        0.0                        0.0   \n",
       "4                        NaN                        NaN   \n",
       "\n",
       "   AMT_REQ_CREDIT_BUREAU_YEAR  \n",
       "0                         0.0  \n",
       "1                         3.0  \n",
       "2                         4.0  \n",
       "3                         3.0  \n",
       "4                         NaN  \n",
       "\n",
       "[5 rows x 121 columns]"
      ]
     },
     "execution_count": 36,
     "metadata": {},
     "output_type": "execute_result"
    }
   ],
   "source": [
    "test_features.head()"
   ]
  },
  {
   "cell_type": "markdown",
   "metadata": {},
   "source": [
    "#### Dealing with categorical values"
   ]
  },
  {
   "cell_type": "markdown",
   "metadata": {},
   "source": [
    "Convert categorical features to one-hot encoded features. This is due to the fact that implementations of most machine learning models cannot directly deal with categorical data. We will use pandas native one hot encoder. Howerver, to align train and test data, we will simply remove the additional columns, since they reflect only a small portion of data."
   ]
  },
  {
   "cell_type": "code",
   "execution_count": 8,
   "metadata": {},
   "outputs": [],
   "source": [
    "def make_one_hot_encoded(train_features: pd.DataFrame, test_features: pd.DataFrame) -> tuple:\n",
    "    train_1h = pd.get_dummies(train_features)\n",
    "    test_1h = pd.get_dummies(test_features)\n",
    "    return train_1h.align(test_1h, join='inner', axis=1)"
   ]
  },
  {
   "cell_type": "code",
   "execution_count": 9,
   "metadata": {},
   "outputs": [],
   "source": [
    "train_1h, test_1h = make_one_hot_encoded(train_features, test_features)\n",
    "assert train_1h.shape[1]==test_1h.shape[1]"
   ]
  },
  {
   "cell_type": "code",
   "execution_count": 10,
   "metadata": {},
   "outputs": [
    {
     "data": {
      "text/plain": [
       "((307511, 242), (48744, 242))"
      ]
     },
     "execution_count": 10,
     "metadata": {},
     "output_type": "execute_result"
    }
   ],
   "source": [
    "train_1h.shape, test_1h.shape"
   ]
  },
  {
   "cell_type": "markdown",
   "metadata": {},
   "source": [
    "Lets look at the one hot encoded colum s"
   ]
  },
  {
   "cell_type": "code",
   "execution_count": 11,
   "metadata": {},
   "outputs": [],
   "source": [
    "def get_extra_columns(before: np.ndarray, after: np.ndarray) -> list:\n",
    "    return list(set(after).difference(set(before)))"
   ]
  },
  {
   "cell_type": "code",
   "execution_count": 12,
   "metadata": {},
   "outputs": [
    {
     "data": {
      "text/html": [
       "<div>\n",
       "<style>\n",
       "    .dataframe thead tr:only-child th {\n",
       "        text-align: right;\n",
       "    }\n",
       "\n",
       "    .dataframe thead th {\n",
       "        text-align: left;\n",
       "    }\n",
       "\n",
       "    .dataframe tbody tr th {\n",
       "        vertical-align: top;\n",
       "    }\n",
       "</style>\n",
       "<table border=\"1\" class=\"dataframe\">\n",
       "  <thead>\n",
       "    <tr style=\"text-align: right;\">\n",
       "      <th></th>\n",
       "      <th>ORGANIZATION_TYPE_Business Entity Type 2</th>\n",
       "      <th>ORGANIZATION_TYPE_Telecom</th>\n",
       "      <th>ORGANIZATION_TYPE_Industry: type 2</th>\n",
       "      <th>OCCUPATION_TYPE_HR staff</th>\n",
       "      <th>WEEKDAY_APPR_PROCESS_START_TUESDAY</th>\n",
       "      <th>NAME_FAMILY_STATUS_Single / not married</th>\n",
       "      <th>ORGANIZATION_TYPE_Trade: type 3</th>\n",
       "      <th>ORGANIZATION_TYPE_Trade: type 1</th>\n",
       "      <th>OCCUPATION_TYPE_Sales staff</th>\n",
       "      <th>NAME_TYPE_SUITE_Unaccompanied</th>\n",
       "      <th>...</th>\n",
       "      <th>OCCUPATION_TYPE_Low-skill Laborers</th>\n",
       "      <th>OCCUPATION_TYPE_Managers</th>\n",
       "      <th>ORGANIZATION_TYPE_Business Entity Type 1</th>\n",
       "      <th>ORGANIZATION_TYPE_XNA</th>\n",
       "      <th>ORGANIZATION_TYPE_Industry: type 11</th>\n",
       "      <th>ORGANIZATION_TYPE_Cleaning</th>\n",
       "      <th>FLAG_OWN_REALTY_N</th>\n",
       "      <th>WEEKDAY_APPR_PROCESS_START_WEDNESDAY</th>\n",
       "      <th>ORGANIZATION_TYPE_Realtor</th>\n",
       "      <th>FONDKAPREMONT_MODE_reg oper account</th>\n",
       "    </tr>\n",
       "  </thead>\n",
       "  <tbody>\n",
       "    <tr>\n",
       "      <th>0</th>\n",
       "      <td>0</td>\n",
       "      <td>0</td>\n",
       "      <td>0</td>\n",
       "      <td>0</td>\n",
       "      <td>0</td>\n",
       "      <td>1</td>\n",
       "      <td>0</td>\n",
       "      <td>0</td>\n",
       "      <td>0</td>\n",
       "      <td>1</td>\n",
       "      <td>...</td>\n",
       "      <td>0</td>\n",
       "      <td>0</td>\n",
       "      <td>0</td>\n",
       "      <td>0</td>\n",
       "      <td>0</td>\n",
       "      <td>0</td>\n",
       "      <td>0</td>\n",
       "      <td>1</td>\n",
       "      <td>0</td>\n",
       "      <td>1</td>\n",
       "    </tr>\n",
       "    <tr>\n",
       "      <th>1</th>\n",
       "      <td>0</td>\n",
       "      <td>0</td>\n",
       "      <td>0</td>\n",
       "      <td>0</td>\n",
       "      <td>0</td>\n",
       "      <td>0</td>\n",
       "      <td>0</td>\n",
       "      <td>0</td>\n",
       "      <td>0</td>\n",
       "      <td>0</td>\n",
       "      <td>...</td>\n",
       "      <td>0</td>\n",
       "      <td>0</td>\n",
       "      <td>0</td>\n",
       "      <td>0</td>\n",
       "      <td>0</td>\n",
       "      <td>0</td>\n",
       "      <td>1</td>\n",
       "      <td>0</td>\n",
       "      <td>0</td>\n",
       "      <td>1</td>\n",
       "    </tr>\n",
       "    <tr>\n",
       "      <th>2</th>\n",
       "      <td>0</td>\n",
       "      <td>0</td>\n",
       "      <td>0</td>\n",
       "      <td>0</td>\n",
       "      <td>0</td>\n",
       "      <td>1</td>\n",
       "      <td>0</td>\n",
       "      <td>0</td>\n",
       "      <td>0</td>\n",
       "      <td>1</td>\n",
       "      <td>...</td>\n",
       "      <td>0</td>\n",
       "      <td>0</td>\n",
       "      <td>0</td>\n",
       "      <td>0</td>\n",
       "      <td>0</td>\n",
       "      <td>0</td>\n",
       "      <td>0</td>\n",
       "      <td>0</td>\n",
       "      <td>0</td>\n",
       "      <td>0</td>\n",
       "    </tr>\n",
       "    <tr>\n",
       "      <th>3</th>\n",
       "      <td>0</td>\n",
       "      <td>0</td>\n",
       "      <td>0</td>\n",
       "      <td>0</td>\n",
       "      <td>0</td>\n",
       "      <td>0</td>\n",
       "      <td>0</td>\n",
       "      <td>0</td>\n",
       "      <td>0</td>\n",
       "      <td>1</td>\n",
       "      <td>...</td>\n",
       "      <td>0</td>\n",
       "      <td>0</td>\n",
       "      <td>0</td>\n",
       "      <td>0</td>\n",
       "      <td>0</td>\n",
       "      <td>0</td>\n",
       "      <td>0</td>\n",
       "      <td>1</td>\n",
       "      <td>0</td>\n",
       "      <td>0</td>\n",
       "    </tr>\n",
       "    <tr>\n",
       "      <th>4</th>\n",
       "      <td>0</td>\n",
       "      <td>0</td>\n",
       "      <td>0</td>\n",
       "      <td>0</td>\n",
       "      <td>0</td>\n",
       "      <td>1</td>\n",
       "      <td>0</td>\n",
       "      <td>0</td>\n",
       "      <td>0</td>\n",
       "      <td>1</td>\n",
       "      <td>...</td>\n",
       "      <td>0</td>\n",
       "      <td>0</td>\n",
       "      <td>0</td>\n",
       "      <td>0</td>\n",
       "      <td>0</td>\n",
       "      <td>0</td>\n",
       "      <td>0</td>\n",
       "      <td>0</td>\n",
       "      <td>0</td>\n",
       "      <td>0</td>\n",
       "    </tr>\n",
       "  </tbody>\n",
       "</table>\n",
       "<p>5 rows × 137 columns</p>\n",
       "</div>"
      ],
      "text/plain": [
       "   ORGANIZATION_TYPE_Business Entity Type 2  ORGANIZATION_TYPE_Telecom  \\\n",
       "0                                         0                          0   \n",
       "1                                         0                          0   \n",
       "2                                         0                          0   \n",
       "3                                         0                          0   \n",
       "4                                         0                          0   \n",
       "\n",
       "   ORGANIZATION_TYPE_Industry: type 2  OCCUPATION_TYPE_HR staff  \\\n",
       "0                                   0                         0   \n",
       "1                                   0                         0   \n",
       "2                                   0                         0   \n",
       "3                                   0                         0   \n",
       "4                                   0                         0   \n",
       "\n",
       "   WEEKDAY_APPR_PROCESS_START_TUESDAY  \\\n",
       "0                                   0   \n",
       "1                                   0   \n",
       "2                                   0   \n",
       "3                                   0   \n",
       "4                                   0   \n",
       "\n",
       "   NAME_FAMILY_STATUS_Single / not married  ORGANIZATION_TYPE_Trade: type 3  \\\n",
       "0                                        1                                0   \n",
       "1                                        0                                0   \n",
       "2                                        1                                0   \n",
       "3                                        0                                0   \n",
       "4                                        1                                0   \n",
       "\n",
       "   ORGANIZATION_TYPE_Trade: type 1  OCCUPATION_TYPE_Sales staff  \\\n",
       "0                                0                            0   \n",
       "1                                0                            0   \n",
       "2                                0                            0   \n",
       "3                                0                            0   \n",
       "4                                0                            0   \n",
       "\n",
       "   NAME_TYPE_SUITE_Unaccompanied                 ...                   \\\n",
       "0                              1                 ...                    \n",
       "1                              0                 ...                    \n",
       "2                              1                 ...                    \n",
       "3                              1                 ...                    \n",
       "4                              1                 ...                    \n",
       "\n",
       "   OCCUPATION_TYPE_Low-skill Laborers  OCCUPATION_TYPE_Managers  \\\n",
       "0                                   0                         0   \n",
       "1                                   0                         0   \n",
       "2                                   0                         0   \n",
       "3                                   0                         0   \n",
       "4                                   0                         0   \n",
       "\n",
       "   ORGANIZATION_TYPE_Business Entity Type 1  ORGANIZATION_TYPE_XNA  \\\n",
       "0                                         0                      0   \n",
       "1                                         0                      0   \n",
       "2                                         0                      0   \n",
       "3                                         0                      0   \n",
       "4                                         0                      0   \n",
       "\n",
       "   ORGANIZATION_TYPE_Industry: type 11  ORGANIZATION_TYPE_Cleaning  \\\n",
       "0                                    0                           0   \n",
       "1                                    0                           0   \n",
       "2                                    0                           0   \n",
       "3                                    0                           0   \n",
       "4                                    0                           0   \n",
       "\n",
       "   FLAG_OWN_REALTY_N  WEEKDAY_APPR_PROCESS_START_WEDNESDAY  \\\n",
       "0                  0                                     1   \n",
       "1                  1                                     0   \n",
       "2                  0                                     0   \n",
       "3                  0                                     1   \n",
       "4                  0                                     0   \n",
       "\n",
       "   ORGANIZATION_TYPE_Realtor  FONDKAPREMONT_MODE_reg oper account  \n",
       "0                          0                                    1  \n",
       "1                          0                                    1  \n",
       "2                          0                                    0  \n",
       "3                          0                                    0  \n",
       "4                          0                                    0  \n",
       "\n",
       "[5 rows x 137 columns]"
      ]
     },
     "execution_count": 12,
     "metadata": {},
     "output_type": "execute_result"
    }
   ],
   "source": [
    "train_1h[get_extra_columns(train_features.columns.values, train_1h.columns.values)].head()"
   ]
  },
  {
   "cell_type": "code",
   "execution_count": 13,
   "metadata": {},
   "outputs": [
    {
     "data": {
      "text/html": [
       "<div>\n",
       "<style>\n",
       "    .dataframe thead tr:only-child th {\n",
       "        text-align: right;\n",
       "    }\n",
       "\n",
       "    .dataframe thead th {\n",
       "        text-align: left;\n",
       "    }\n",
       "\n",
       "    .dataframe tbody tr th {\n",
       "        vertical-align: top;\n",
       "    }\n",
       "</style>\n",
       "<table border=\"1\" class=\"dataframe\">\n",
       "  <thead>\n",
       "    <tr style=\"text-align: right;\">\n",
       "      <th></th>\n",
       "      <th>ORGANIZATION_TYPE_Business Entity Type 2</th>\n",
       "      <th>ORGANIZATION_TYPE_Telecom</th>\n",
       "      <th>ORGANIZATION_TYPE_Industry: type 2</th>\n",
       "      <th>OCCUPATION_TYPE_HR staff</th>\n",
       "      <th>WEEKDAY_APPR_PROCESS_START_TUESDAY</th>\n",
       "      <th>NAME_FAMILY_STATUS_Single / not married</th>\n",
       "      <th>ORGANIZATION_TYPE_Trade: type 3</th>\n",
       "      <th>ORGANIZATION_TYPE_Trade: type 1</th>\n",
       "      <th>OCCUPATION_TYPE_Sales staff</th>\n",
       "      <th>NAME_TYPE_SUITE_Unaccompanied</th>\n",
       "      <th>...</th>\n",
       "      <th>OCCUPATION_TYPE_Low-skill Laborers</th>\n",
       "      <th>OCCUPATION_TYPE_Managers</th>\n",
       "      <th>ORGANIZATION_TYPE_Business Entity Type 1</th>\n",
       "      <th>ORGANIZATION_TYPE_XNA</th>\n",
       "      <th>ORGANIZATION_TYPE_Industry: type 11</th>\n",
       "      <th>ORGANIZATION_TYPE_Cleaning</th>\n",
       "      <th>FLAG_OWN_REALTY_N</th>\n",
       "      <th>WEEKDAY_APPR_PROCESS_START_WEDNESDAY</th>\n",
       "      <th>ORGANIZATION_TYPE_Realtor</th>\n",
       "      <th>FONDKAPREMONT_MODE_reg oper account</th>\n",
       "    </tr>\n",
       "  </thead>\n",
       "  <tbody>\n",
       "    <tr>\n",
       "      <th>0</th>\n",
       "      <td>0</td>\n",
       "      <td>0</td>\n",
       "      <td>0</td>\n",
       "      <td>0</td>\n",
       "      <td>1</td>\n",
       "      <td>0</td>\n",
       "      <td>0</td>\n",
       "      <td>0</td>\n",
       "      <td>0</td>\n",
       "      <td>1</td>\n",
       "      <td>...</td>\n",
       "      <td>0</td>\n",
       "      <td>0</td>\n",
       "      <td>0</td>\n",
       "      <td>0</td>\n",
       "      <td>0</td>\n",
       "      <td>0</td>\n",
       "      <td>0</td>\n",
       "      <td>0</td>\n",
       "      <td>0</td>\n",
       "      <td>0</td>\n",
       "    </tr>\n",
       "    <tr>\n",
       "      <th>1</th>\n",
       "      <td>0</td>\n",
       "      <td>0</td>\n",
       "      <td>0</td>\n",
       "      <td>0</td>\n",
       "      <td>0</td>\n",
       "      <td>0</td>\n",
       "      <td>0</td>\n",
       "      <td>0</td>\n",
       "      <td>0</td>\n",
       "      <td>1</td>\n",
       "      <td>...</td>\n",
       "      <td>1</td>\n",
       "      <td>0</td>\n",
       "      <td>0</td>\n",
       "      <td>0</td>\n",
       "      <td>0</td>\n",
       "      <td>0</td>\n",
       "      <td>0</td>\n",
       "      <td>0</td>\n",
       "      <td>0</td>\n",
       "      <td>0</td>\n",
       "    </tr>\n",
       "    <tr>\n",
       "      <th>2</th>\n",
       "      <td>0</td>\n",
       "      <td>0</td>\n",
       "      <td>0</td>\n",
       "      <td>0</td>\n",
       "      <td>0</td>\n",
       "      <td>0</td>\n",
       "      <td>0</td>\n",
       "      <td>0</td>\n",
       "      <td>0</td>\n",
       "      <td>0</td>\n",
       "      <td>...</td>\n",
       "      <td>0</td>\n",
       "      <td>0</td>\n",
       "      <td>0</td>\n",
       "      <td>0</td>\n",
       "      <td>0</td>\n",
       "      <td>0</td>\n",
       "      <td>0</td>\n",
       "      <td>0</td>\n",
       "      <td>0</td>\n",
       "      <td>0</td>\n",
       "    </tr>\n",
       "    <tr>\n",
       "      <th>3</th>\n",
       "      <td>0</td>\n",
       "      <td>0</td>\n",
       "      <td>0</td>\n",
       "      <td>0</td>\n",
       "      <td>0</td>\n",
       "      <td>0</td>\n",
       "      <td>0</td>\n",
       "      <td>0</td>\n",
       "      <td>1</td>\n",
       "      <td>1</td>\n",
       "      <td>...</td>\n",
       "      <td>0</td>\n",
       "      <td>0</td>\n",
       "      <td>0</td>\n",
       "      <td>0</td>\n",
       "      <td>0</td>\n",
       "      <td>0</td>\n",
       "      <td>0</td>\n",
       "      <td>1</td>\n",
       "      <td>0</td>\n",
       "      <td>1</td>\n",
       "    </tr>\n",
       "    <tr>\n",
       "      <th>4</th>\n",
       "      <td>0</td>\n",
       "      <td>0</td>\n",
       "      <td>0</td>\n",
       "      <td>0</td>\n",
       "      <td>0</td>\n",
       "      <td>0</td>\n",
       "      <td>0</td>\n",
       "      <td>0</td>\n",
       "      <td>0</td>\n",
       "      <td>1</td>\n",
       "      <td>...</td>\n",
       "      <td>0</td>\n",
       "      <td>0</td>\n",
       "      <td>0</td>\n",
       "      <td>0</td>\n",
       "      <td>0</td>\n",
       "      <td>0</td>\n",
       "      <td>1</td>\n",
       "      <td>0</td>\n",
       "      <td>0</td>\n",
       "      <td>0</td>\n",
       "    </tr>\n",
       "  </tbody>\n",
       "</table>\n",
       "<p>5 rows × 137 columns</p>\n",
       "</div>"
      ],
      "text/plain": [
       "   ORGANIZATION_TYPE_Business Entity Type 2  ORGANIZATION_TYPE_Telecom  \\\n",
       "0                                         0                          0   \n",
       "1                                         0                          0   \n",
       "2                                         0                          0   \n",
       "3                                         0                          0   \n",
       "4                                         0                          0   \n",
       "\n",
       "   ORGANIZATION_TYPE_Industry: type 2  OCCUPATION_TYPE_HR staff  \\\n",
       "0                                   0                         0   \n",
       "1                                   0                         0   \n",
       "2                                   0                         0   \n",
       "3                                   0                         0   \n",
       "4                                   0                         0   \n",
       "\n",
       "   WEEKDAY_APPR_PROCESS_START_TUESDAY  \\\n",
       "0                                   1   \n",
       "1                                   0   \n",
       "2                                   0   \n",
       "3                                   0   \n",
       "4                                   0   \n",
       "\n",
       "   NAME_FAMILY_STATUS_Single / not married  ORGANIZATION_TYPE_Trade: type 3  \\\n",
       "0                                        0                                0   \n",
       "1                                        0                                0   \n",
       "2                                        0                                0   \n",
       "3                                        0                                0   \n",
       "4                                        0                                0   \n",
       "\n",
       "   ORGANIZATION_TYPE_Trade: type 1  OCCUPATION_TYPE_Sales staff  \\\n",
       "0                                0                            0   \n",
       "1                                0                            0   \n",
       "2                                0                            0   \n",
       "3                                0                            1   \n",
       "4                                0                            0   \n",
       "\n",
       "   NAME_TYPE_SUITE_Unaccompanied                 ...                   \\\n",
       "0                              1                 ...                    \n",
       "1                              1                 ...                    \n",
       "2                              0                 ...                    \n",
       "3                              1                 ...                    \n",
       "4                              1                 ...                    \n",
       "\n",
       "   OCCUPATION_TYPE_Low-skill Laborers  OCCUPATION_TYPE_Managers  \\\n",
       "0                                   0                         0   \n",
       "1                                   1                         0   \n",
       "2                                   0                         0   \n",
       "3                                   0                         0   \n",
       "4                                   0                         0   \n",
       "\n",
       "   ORGANIZATION_TYPE_Business Entity Type 1  ORGANIZATION_TYPE_XNA  \\\n",
       "0                                         0                      0   \n",
       "1                                         0                      0   \n",
       "2                                         0                      0   \n",
       "3                                         0                      0   \n",
       "4                                         0                      0   \n",
       "\n",
       "   ORGANIZATION_TYPE_Industry: type 11  ORGANIZATION_TYPE_Cleaning  \\\n",
       "0                                    0                           0   \n",
       "1                                    0                           0   \n",
       "2                                    0                           0   \n",
       "3                                    0                           0   \n",
       "4                                    0                           0   \n",
       "\n",
       "   FLAG_OWN_REALTY_N  WEEKDAY_APPR_PROCESS_START_WEDNESDAY  \\\n",
       "0                  0                                     0   \n",
       "1                  0                                     0   \n",
       "2                  0                                     0   \n",
       "3                  0                                     1   \n",
       "4                  1                                     0   \n",
       "\n",
       "   ORGANIZATION_TYPE_Realtor  FONDKAPREMONT_MODE_reg oper account  \n",
       "0                          0                                    0  \n",
       "1                          0                                    0  \n",
       "2                          0                                    0  \n",
       "3                          0                                    1  \n",
       "4                          0                                    0  \n",
       "\n",
       "[5 rows x 137 columns]"
      ]
     },
     "execution_count": 13,
     "metadata": {},
     "output_type": "execute_result"
    }
   ],
   "source": [
    "test_1h[get_extra_columns(test_features.columns.values, test_1h.columns.values)].head()"
   ]
  },
  {
   "cell_type": "markdown",
   "metadata": {},
   "source": [
    "#### Imputing\n",
    "\n",
    "We learned earlier that a lot of features are missing values. We need to deal with the missing values before we derive the polynomial feature. "
   ]
  },
  {
   "cell_type": "code",
   "execution_count": 14,
   "metadata": {},
   "outputs": [
    {
     "data": {
      "text/plain": [
       "sklearn.preprocessing.imputation.Imputer"
      ]
     },
     "execution_count": 14,
     "metadata": {},
     "output_type": "execute_result"
    }
   ],
   "source": [
    "type(Imputer(strategy='median'))"
   ]
  },
  {
   "cell_type": "code",
   "execution_count": 15,
   "metadata": {
    "collapsed": true
   },
   "outputs": [],
   "source": [
    "def impute(train_data: pd.DataFrame, test_data: pd.DataFrame, strategy: str) -> tuple:\n",
    "    imputer = Imputer(strategy=strategy)\n",
    "    \n",
    "    train_imputed = imputer.fit_transform(train_data)\n",
    "    train_features = pd.DataFrame(train_imputed, columns=train_data.columns)\n",
    "    \n",
    "    test_imputed = imputer.transform(test_data) \n",
    "    test_features = pd.DataFrame(test_imputed, columns=test_data.columns)\n",
    "    \n",
    "    return train_features, test_features"
   ]
  },
  {
   "cell_type": "code",
   "execution_count": 16,
   "metadata": {},
   "outputs": [],
   "source": [
    "train_imputed, test_imputed = impute(train_1h, test_1h, strategy='median')"
   ]
  },
  {
   "cell_type": "code",
   "execution_count": 17,
   "metadata": {
    "collapsed": true
   },
   "outputs": [],
   "source": [
    "def count_missing_stats(data: pd.DataFrame) -> int:\n",
    "    return len([(row, stat) for row, stat in (data.isnull().sum()/data.shape[0]).items() if stat>0])    "
   ]
  },
  {
   "cell_type": "code",
   "execution_count": 18,
   "metadata": {},
   "outputs": [
    {
     "name": "stdout",
     "output_type": "stream",
     "text": [
      "Columns having null valies: 61 (before Imputing), 0 (after Imputing)\n"
     ]
    }
   ],
   "source": [
    "print (\"Columns having null valies: {} (before Imputing), {} (after Imputing)\"\n",
    "       .format(count_missing_stats(train_1h),\n",
    "               count_missing_stats(train_imputed)))"
   ]
  },
  {
   "cell_type": "code",
   "execution_count": 19,
   "metadata": {},
   "outputs": [
    {
     "name": "stdout",
     "output_type": "stream",
     "text": [
      "Columns having null valies: 58 (before Imputing), 0 (after Imputing)\n"
     ]
    }
   ],
   "source": [
    "print (\"Columns having null valies: {} (before Imputing), {} (after Imputing)\"\n",
    "       .format(count_missing_stats(test_1h), \n",
    "               count_missing_stats(test_imputed)))"
   ]
  },
  {
   "cell_type": "markdown",
   "metadata": {
    "collapsed": true
   },
   "source": [
    "### Feature Engineering"
   ]
  },
  {
   "cell_type": "markdown",
   "metadata": {},
   "source": [
    "#### Polynomial feature from correlated features"
   ]
  },
  {
   "cell_type": "markdown",
   "metadata": {},
   "source": [
    "In our analysis, we learned that `TARGET` is positively correlated with `DAYS_BIRTH` and negatively correlated with `EXT_SOURCE_1`, `EXT_SOURCE_2`, and `EXT_SOURCE_3`. It is worth trying out polynomial features. `scikit-learn` provides a utitlity to generate one."
   ]
  },
  {
   "cell_type": "code",
   "execution_count": 20,
   "metadata": {},
   "outputs": [],
   "source": [
    "def EngieerPolynomialFeatures(train_data: pd.DataFrame, \n",
    "                              test_data: pd.DataFrame, \n",
    "                              feature_columns: list, \n",
    "                              degree: int, \n",
    "                              merge_id: str, \n",
    "                              merge_how:str) -> tuple:\n",
    "    poly_transformer = PolynomialFeatures(degree=degree)\n",
    "    \n",
    "    train_features = poly_transformer.fit_transform(train_data[feature_columns])\n",
    "    test_features = poly_transformer.transform(test_data[feature_columns])\n",
    "    \n",
    "    engineered_column_names = poly_transformer.get_feature_names(feature_columns)\n",
    "    \n",
    "    poly_df_train = pd.DataFrame(train_features, columns=engineered_column_names)\n",
    "    poly_df_train[merge_id] = train_data[merge_id]\n",
    "    poly_train_features = train_data.merge(poly_df_train, how=merge_how, on=merge_id)\n",
    "    \n",
    "    poly_df_test = pd.DataFrame(test_features, columns=engineered_column_names)\n",
    "    poly_df_test[merge_id] = test_data[merge_id]\n",
    "    poly_test_features = test_data.merge(poly_df_test, how=merge_how, on=merge_id)\n",
    "    \n",
    "    return poly_train_features, poly_test_features"
   ]
  },
  {
   "cell_type": "code",
   "execution_count": 21,
   "metadata": {},
   "outputs": [],
   "source": [
    "feature_columns = ['DAYS_BIRTH', 'EXT_SOURCE_1', 'EXT_SOURCE_2', 'EXT_SOURCE_3']\n",
    "degree = 3    \n",
    "merge_id = 'SK_ID_CURR'\n",
    "merge_how = 'left'\n",
    "poly_train_features, poly_test_features = EngieerPolynomialFeatures(train_data=train_imputed,\n",
    "                                                                    test_data=test_imputed,\n",
    "                                                                    feature_columns=feature_columns, \n",
    "                                                                    degree=degree, \n",
    "                                                                    merge_id=merge_id, \n",
    "                                                                    merge_how=merge_how)"
   ]
  },
  {
   "cell_type": "code",
   "execution_count": 22,
   "metadata": {},
   "outputs": [
    {
     "data": {
      "text/plain": [
       "((307511, 277), (48744, 277))"
      ]
     },
     "execution_count": 22,
     "metadata": {},
     "output_type": "execute_result"
    }
   ],
   "source": [
    "poly_train_features.shape, poly_test_features.shape"
   ]
  },
  {
   "cell_type": "markdown",
   "metadata": {},
   "source": [
    "Lets look at the polynomial features"
   ]
  },
  {
   "cell_type": "code",
   "execution_count": 23,
   "metadata": {},
   "outputs": [
    {
     "data": {
      "text/html": [
       "<div>\n",
       "<style>\n",
       "    .dataframe thead tr:only-child th {\n",
       "        text-align: right;\n",
       "    }\n",
       "\n",
       "    .dataframe thead th {\n",
       "        text-align: left;\n",
       "    }\n",
       "\n",
       "    .dataframe tbody tr th {\n",
       "        vertical-align: top;\n",
       "    }\n",
       "</style>\n",
       "<table border=\"1\" class=\"dataframe\">\n",
       "  <thead>\n",
       "    <tr style=\"text-align: right;\">\n",
       "      <th></th>\n",
       "      <th>DAYS_BIRTH EXT_SOURCE_1^2</th>\n",
       "      <th>DAYS_BIRTH_x</th>\n",
       "      <th>EXT_SOURCE_1^2</th>\n",
       "      <th>DAYS_BIRTH EXT_SOURCE_2^2</th>\n",
       "      <th>EXT_SOURCE_1 EXT_SOURCE_3^2</th>\n",
       "      <th>EXT_SOURCE_3^3</th>\n",
       "      <th>DAYS_BIRTH^3</th>\n",
       "      <th>1</th>\n",
       "      <th>DAYS_BIRTH EXT_SOURCE_3^2</th>\n",
       "      <th>EXT_SOURCE_2 EXT_SOURCE_3</th>\n",
       "      <th>...</th>\n",
       "      <th>DAYS_BIRTH^2</th>\n",
       "      <th>DAYS_BIRTH EXT_SOURCE_2 EXT_SOURCE_3</th>\n",
       "      <th>EXT_SOURCE_1^2 EXT_SOURCE_2</th>\n",
       "      <th>DAYS_BIRTH EXT_SOURCE_3</th>\n",
       "      <th>EXT_SOURCE_2 EXT_SOURCE_3^2</th>\n",
       "      <th>EXT_SOURCE_1_y</th>\n",
       "      <th>EXT_SOURCE_2_x</th>\n",
       "      <th>EXT_SOURCE_1 EXT_SOURCE_3</th>\n",
       "      <th>EXT_SOURCE_2^2</th>\n",
       "      <th>DAYS_BIRTH EXT_SOURCE_1 EXT_SOURCE_3</th>\n",
       "    </tr>\n",
       "  </thead>\n",
       "  <tbody>\n",
       "    <tr>\n",
       "      <th>0</th>\n",
       "      <td>-65.234900</td>\n",
       "      <td>-9461.0</td>\n",
       "      <td>0.006895</td>\n",
       "      <td>-654.152107</td>\n",
       "      <td>0.001613</td>\n",
       "      <td>0.002707</td>\n",
       "      <td>-8.468590e+11</td>\n",
       "      <td>1.0</td>\n",
       "      <td>-183.785678</td>\n",
       "      <td>0.036649</td>\n",
       "      <td>...</td>\n",
       "      <td>89510521.0</td>\n",
       "      <td>-346.733022</td>\n",
       "      <td>0.001813</td>\n",
       "      <td>-1318.634256</td>\n",
       "      <td>0.005108</td>\n",
       "      <td>0.083037</td>\n",
       "      <td>0.262949</td>\n",
       "      <td>0.011573</td>\n",
       "      <td>0.069142</td>\n",
       "      <td>-109.495390</td>\n",
       "    </tr>\n",
       "    <tr>\n",
       "      <th>1</th>\n",
       "      <td>-1624.316241</td>\n",
       "      <td>-16765.0</td>\n",
       "      <td>0.096887</td>\n",
       "      <td>-6491.237078</td>\n",
       "      <td>0.089185</td>\n",
       "      <td>0.153368</td>\n",
       "      <td>-4.712058e+12</td>\n",
       "      <td>1.0</td>\n",
       "      <td>-4803.518937</td>\n",
       "      <td>0.333073</td>\n",
       "      <td>...</td>\n",
       "      <td>281065225.0</td>\n",
       "      <td>-5583.975307</td>\n",
       "      <td>0.060288</td>\n",
       "      <td>-8973.906339</td>\n",
       "      <td>0.178286</td>\n",
       "      <td>0.311267</td>\n",
       "      <td>0.622246</td>\n",
       "      <td>0.166614</td>\n",
       "      <td>0.387190</td>\n",
       "      <td>-2793.283699</td>\n",
       "    </tr>\n",
       "    <tr>\n",
       "      <th>2</th>\n",
       "      <td>-4876.421768</td>\n",
       "      <td>-19046.0</td>\n",
       "      <td>0.256034</td>\n",
       "      <td>-5885.942404</td>\n",
       "      <td>0.269326</td>\n",
       "      <td>0.388325</td>\n",
       "      <td>-6.908939e+12</td>\n",
       "      <td>1.0</td>\n",
       "      <td>-10137.567875</td>\n",
       "      <td>0.405575</td>\n",
       "      <td>...</td>\n",
       "      <td>362750116.0</td>\n",
       "      <td>-7724.580288</td>\n",
       "      <td>0.142332</td>\n",
       "      <td>-13895.327191</td>\n",
       "      <td>0.295894</td>\n",
       "      <td>0.505998</td>\n",
       "      <td>0.555912</td>\n",
       "      <td>0.369159</td>\n",
       "      <td>0.309038</td>\n",
       "      <td>-7031.006802</td>\n",
       "    </tr>\n",
       "    <tr>\n",
       "      <th>3</th>\n",
       "      <td>-4865.924377</td>\n",
       "      <td>-19005.0</td>\n",
       "      <td>0.256034</td>\n",
       "      <td>-8040.528832</td>\n",
       "      <td>0.144979</td>\n",
       "      <td>0.153368</td>\n",
       "      <td>-6.864416e+12</td>\n",
       "      <td>1.0</td>\n",
       "      <td>-5445.325225</td>\n",
       "      <td>0.348166</td>\n",
       "      <td>...</td>\n",
       "      <td>361190025.0</td>\n",
       "      <td>-6616.894625</td>\n",
       "      <td>0.166535</td>\n",
       "      <td>-10172.925140</td>\n",
       "      <td>0.186365</td>\n",
       "      <td>0.505998</td>\n",
       "      <td>0.650442</td>\n",
       "      <td>0.270849</td>\n",
       "      <td>0.423074</td>\n",
       "      <td>-5147.479068</td>\n",
       "    </tr>\n",
       "    <tr>\n",
       "      <th>4</th>\n",
       "      <td>-5103.267808</td>\n",
       "      <td>-19932.0</td>\n",
       "      <td>0.256034</td>\n",
       "      <td>-2076.117157</td>\n",
       "      <td>0.144979</td>\n",
       "      <td>0.153368</td>\n",
       "      <td>-7.918677e+12</td>\n",
       "      <td>1.0</td>\n",
       "      <td>-5710.929881</td>\n",
       "      <td>0.172754</td>\n",
       "      <td>...</td>\n",
       "      <td>397284624.0</td>\n",
       "      <td>-3443.335521</td>\n",
       "      <td>0.082632</td>\n",
       "      <td>-10669.126224</td>\n",
       "      <td>0.092471</td>\n",
       "      <td>0.505998</td>\n",
       "      <td>0.322738</td>\n",
       "      <td>0.270849</td>\n",
       "      <td>0.104160</td>\n",
       "      <td>-5398.555790</td>\n",
       "    </tr>\n",
       "  </tbody>\n",
       "</table>\n",
       "<p>5 rows × 39 columns</p>\n",
       "</div>"
      ],
      "text/plain": [
       "   DAYS_BIRTH EXT_SOURCE_1^2  DAYS_BIRTH_x  EXT_SOURCE_1^2  \\\n",
       "0                 -65.234900       -9461.0        0.006895   \n",
       "1               -1624.316241      -16765.0        0.096887   \n",
       "2               -4876.421768      -19046.0        0.256034   \n",
       "3               -4865.924377      -19005.0        0.256034   \n",
       "4               -5103.267808      -19932.0        0.256034   \n",
       "\n",
       "   DAYS_BIRTH EXT_SOURCE_2^2  EXT_SOURCE_1 EXT_SOURCE_3^2  EXT_SOURCE_3^3  \\\n",
       "0                -654.152107                     0.001613        0.002707   \n",
       "1               -6491.237078                     0.089185        0.153368   \n",
       "2               -5885.942404                     0.269326        0.388325   \n",
       "3               -8040.528832                     0.144979        0.153368   \n",
       "4               -2076.117157                     0.144979        0.153368   \n",
       "\n",
       "   DAYS_BIRTH^3    1  DAYS_BIRTH EXT_SOURCE_3^2  EXT_SOURCE_2 EXT_SOURCE_3  \\\n",
       "0 -8.468590e+11  1.0                -183.785678                   0.036649   \n",
       "1 -4.712058e+12  1.0               -4803.518937                   0.333073   \n",
       "2 -6.908939e+12  1.0              -10137.567875                   0.405575   \n",
       "3 -6.864416e+12  1.0               -5445.325225                   0.348166   \n",
       "4 -7.918677e+12  1.0               -5710.929881                   0.172754   \n",
       "\n",
       "                   ...                   DAYS_BIRTH^2  \\\n",
       "0                  ...                     89510521.0   \n",
       "1                  ...                    281065225.0   \n",
       "2                  ...                    362750116.0   \n",
       "3                  ...                    361190025.0   \n",
       "4                  ...                    397284624.0   \n",
       "\n",
       "   DAYS_BIRTH EXT_SOURCE_2 EXT_SOURCE_3  EXT_SOURCE_1^2 EXT_SOURCE_2  \\\n",
       "0                           -346.733022                     0.001813   \n",
       "1                          -5583.975307                     0.060288   \n",
       "2                          -7724.580288                     0.142332   \n",
       "3                          -6616.894625                     0.166535   \n",
       "4                          -3443.335521                     0.082632   \n",
       "\n",
       "   DAYS_BIRTH EXT_SOURCE_3  EXT_SOURCE_2 EXT_SOURCE_3^2  EXT_SOURCE_1_y  \\\n",
       "0             -1318.634256                     0.005108        0.083037   \n",
       "1             -8973.906339                     0.178286        0.311267   \n",
       "2            -13895.327191                     0.295894        0.505998   \n",
       "3            -10172.925140                     0.186365        0.505998   \n",
       "4            -10669.126224                     0.092471        0.505998   \n",
       "\n",
       "   EXT_SOURCE_2_x  EXT_SOURCE_1 EXT_SOURCE_3  EXT_SOURCE_2^2  \\\n",
       "0        0.262949                   0.011573        0.069142   \n",
       "1        0.622246                   0.166614        0.387190   \n",
       "2        0.555912                   0.369159        0.309038   \n",
       "3        0.650442                   0.270849        0.423074   \n",
       "4        0.322738                   0.270849        0.104160   \n",
       "\n",
       "   DAYS_BIRTH EXT_SOURCE_1 EXT_SOURCE_3  \n",
       "0                           -109.495390  \n",
       "1                          -2793.283699  \n",
       "2                          -7031.006802  \n",
       "3                          -5147.479068  \n",
       "4                          -5398.555790  \n",
       "\n",
       "[5 rows x 39 columns]"
      ]
     },
     "execution_count": 23,
     "metadata": {},
     "output_type": "execute_result"
    }
   ],
   "source": [
    "poly_train_features[get_extra_columns(train_imputed.columns.values, poly_train_features.columns.values)].head()"
   ]
  },
  {
   "cell_type": "code",
   "execution_count": 24,
   "metadata": {},
   "outputs": [
    {
     "data": {
      "text/html": [
       "<div>\n",
       "<style>\n",
       "    .dataframe thead tr:only-child th {\n",
       "        text-align: right;\n",
       "    }\n",
       "\n",
       "    .dataframe thead th {\n",
       "        text-align: left;\n",
       "    }\n",
       "\n",
       "    .dataframe tbody tr th {\n",
       "        vertical-align: top;\n",
       "    }\n",
       "</style>\n",
       "<table border=\"1\" class=\"dataframe\">\n",
       "  <thead>\n",
       "    <tr style=\"text-align: right;\">\n",
       "      <th></th>\n",
       "      <th>DAYS_BIRTH EXT_SOURCE_1^2</th>\n",
       "      <th>DAYS_BIRTH_x</th>\n",
       "      <th>EXT_SOURCE_1^2</th>\n",
       "      <th>DAYS_BIRTH EXT_SOURCE_2^2</th>\n",
       "      <th>EXT_SOURCE_1 EXT_SOURCE_3^2</th>\n",
       "      <th>EXT_SOURCE_3^3</th>\n",
       "      <th>DAYS_BIRTH^3</th>\n",
       "      <th>1</th>\n",
       "      <th>DAYS_BIRTH EXT_SOURCE_3^2</th>\n",
       "      <th>EXT_SOURCE_2 EXT_SOURCE_3</th>\n",
       "      <th>...</th>\n",
       "      <th>DAYS_BIRTH^2</th>\n",
       "      <th>DAYS_BIRTH EXT_SOURCE_2 EXT_SOURCE_3</th>\n",
       "      <th>EXT_SOURCE_1^2 EXT_SOURCE_2</th>\n",
       "      <th>DAYS_BIRTH EXT_SOURCE_3</th>\n",
       "      <th>EXT_SOURCE_2 EXT_SOURCE_3^2</th>\n",
       "      <th>EXT_SOURCE_1_y</th>\n",
       "      <th>EXT_SOURCE_2_x</th>\n",
       "      <th>EXT_SOURCE_1 EXT_SOURCE_3</th>\n",
       "      <th>EXT_SOURCE_2^2</th>\n",
       "      <th>DAYS_BIRTH EXT_SOURCE_1 EXT_SOURCE_3</th>\n",
       "    </tr>\n",
       "  </thead>\n",
       "  <tbody>\n",
       "    <tr>\n",
       "      <th>0</th>\n",
       "      <td>-10898.652144</td>\n",
       "      <td>-19241.0</td>\n",
       "      <td>0.566429</td>\n",
       "      <td>-11997.802403</td>\n",
       "      <td>0.019151</td>\n",
       "      <td>0.004059</td>\n",
       "      <td>-7.123328e+12</td>\n",
       "      <td>1.0</td>\n",
       "      <td>-489.615795</td>\n",
       "      <td>0.125965</td>\n",
       "      <td>...</td>\n",
       "      <td>370216081.0</td>\n",
       "      <td>-2423.698322</td>\n",
       "      <td>0.447283</td>\n",
       "      <td>-3069.315478</td>\n",
       "      <td>0.020094</td>\n",
       "      <td>0.752614</td>\n",
       "      <td>0.789654</td>\n",
       "      <td>0.120057</td>\n",
       "      <td>0.623554</td>\n",
       "      <td>-2310.011305</td>\n",
       "    </tr>\n",
       "    <tr>\n",
       "      <th>1</th>\n",
       "      <td>-5766.280398</td>\n",
       "      <td>-18064.0</td>\n",
       "      <td>0.319214</td>\n",
       "      <td>-1536.577117</td>\n",
       "      <td>0.105911</td>\n",
       "      <td>0.081161</td>\n",
       "      <td>-5.894429e+12</td>\n",
       "      <td>1.0</td>\n",
       "      <td>-3386.201665</td>\n",
       "      <td>0.126276</td>\n",
       "      <td>...</td>\n",
       "      <td>326308096.0</td>\n",
       "      <td>-2281.043619</td>\n",
       "      <td>0.093101</td>\n",
       "      <td>-7821.019554</td>\n",
       "      <td>0.054673</td>\n",
       "      <td>0.564990</td>\n",
       "      <td>0.291656</td>\n",
       "      <td>0.244619</td>\n",
       "      <td>0.085063</td>\n",
       "      <td>-4418.799416</td>\n",
       "    </tr>\n",
       "    <tr>\n",
       "      <th>2</th>\n",
       "      <td>-5130.407402</td>\n",
       "      <td>-20038.0</td>\n",
       "      <td>0.256034</td>\n",
       "      <td>-9812.640816</td>\n",
       "      <td>0.188894</td>\n",
       "      <td>0.228089</td>\n",
       "      <td>-8.045687e+12</td>\n",
       "      <td>1.0</td>\n",
       "      <td>-7480.393855</td>\n",
       "      <td>0.427564</td>\n",
       "      <td>...</td>\n",
       "      <td>401521444.0</td>\n",
       "      <td>-8567.521115</td>\n",
       "      <td>0.179169</td>\n",
       "      <td>-12243.044232</td>\n",
       "      <td>0.261238</td>\n",
       "      <td>0.505998</td>\n",
       "      <td>0.699787</td>\n",
       "      <td>0.309160</td>\n",
       "      <td>0.489702</td>\n",
       "      <td>-6194.955045</td>\n",
       "    </tr>\n",
       "    <tr>\n",
       "      <th>3</th>\n",
       "      <td>-3862.913505</td>\n",
       "      <td>-13976.0</td>\n",
       "      <td>0.276396</td>\n",
       "      <td>-3630.555667</td>\n",
       "      <td>0.197364</td>\n",
       "      <td>0.230013</td>\n",
       "      <td>-2.729912e+12</td>\n",
       "      <td>1.0</td>\n",
       "      <td>-5246.681115</td>\n",
       "      <td>0.312281</td>\n",
       "      <td>...</td>\n",
       "      <td>195328576.0</td>\n",
       "      <td>-4364.443591</td>\n",
       "      <td>0.140873</td>\n",
       "      <td>-8563.154516</td>\n",
       "      <td>0.191336</td>\n",
       "      <td>0.525734</td>\n",
       "      <td>0.509677</td>\n",
       "      <td>0.322119</td>\n",
       "      <td>0.259771</td>\n",
       "      <td>-4501.941285</td>\n",
       "    </tr>\n",
       "    <tr>\n",
       "      <th>4</th>\n",
       "      <td>-532.848276</td>\n",
       "      <td>-13040.0</td>\n",
       "      <td>0.040863</td>\n",
       "      <td>-2362.974127</td>\n",
       "      <td>0.057919</td>\n",
       "      <td>0.153368</td>\n",
       "      <td>-2.217342e+12</td>\n",
       "      <td>1.0</td>\n",
       "      <td>-3736.229463</td>\n",
       "      <td>0.227860</td>\n",
       "      <td>...</td>\n",
       "      <td>170041600.0</td>\n",
       "      <td>-2971.298294</td>\n",
       "      <td>0.017395</td>\n",
       "      <td>-6980.002306</td>\n",
       "      <td>0.121968</td>\n",
       "      <td>0.202145</td>\n",
       "      <td>0.425687</td>\n",
       "      <td>0.108203</td>\n",
       "      <td>0.181210</td>\n",
       "      <td>-1410.972511</td>\n",
       "    </tr>\n",
       "  </tbody>\n",
       "</table>\n",
       "<p>5 rows × 39 columns</p>\n",
       "</div>"
      ],
      "text/plain": [
       "   DAYS_BIRTH EXT_SOURCE_1^2  DAYS_BIRTH_x  EXT_SOURCE_1^2  \\\n",
       "0              -10898.652144      -19241.0        0.566429   \n",
       "1               -5766.280398      -18064.0        0.319214   \n",
       "2               -5130.407402      -20038.0        0.256034   \n",
       "3               -3862.913505      -13976.0        0.276396   \n",
       "4                -532.848276      -13040.0        0.040863   \n",
       "\n",
       "   DAYS_BIRTH EXT_SOURCE_2^2  EXT_SOURCE_1 EXT_SOURCE_3^2  EXT_SOURCE_3^3  \\\n",
       "0              -11997.802403                     0.019151        0.004059   \n",
       "1               -1536.577117                     0.105911        0.081161   \n",
       "2               -9812.640816                     0.188894        0.228089   \n",
       "3               -3630.555667                     0.197364        0.230013   \n",
       "4               -2362.974127                     0.057919        0.153368   \n",
       "\n",
       "   DAYS_BIRTH^3    1  DAYS_BIRTH EXT_SOURCE_3^2  EXT_SOURCE_2 EXT_SOURCE_3  \\\n",
       "0 -7.123328e+12  1.0                -489.615795                   0.125965   \n",
       "1 -5.894429e+12  1.0               -3386.201665                   0.126276   \n",
       "2 -8.045687e+12  1.0               -7480.393855                   0.427564   \n",
       "3 -2.729912e+12  1.0               -5246.681115                   0.312281   \n",
       "4 -2.217342e+12  1.0               -3736.229463                   0.227860   \n",
       "\n",
       "                   ...                   DAYS_BIRTH^2  \\\n",
       "0                  ...                    370216081.0   \n",
       "1                  ...                    326308096.0   \n",
       "2                  ...                    401521444.0   \n",
       "3                  ...                    195328576.0   \n",
       "4                  ...                    170041600.0   \n",
       "\n",
       "   DAYS_BIRTH EXT_SOURCE_2 EXT_SOURCE_3  EXT_SOURCE_1^2 EXT_SOURCE_2  \\\n",
       "0                          -2423.698322                     0.447283   \n",
       "1                          -2281.043619                     0.093101   \n",
       "2                          -8567.521115                     0.179169   \n",
       "3                          -4364.443591                     0.140873   \n",
       "4                          -2971.298294                     0.017395   \n",
       "\n",
       "   DAYS_BIRTH EXT_SOURCE_3  EXT_SOURCE_2 EXT_SOURCE_3^2  EXT_SOURCE_1_y  \\\n",
       "0             -3069.315478                     0.020094        0.752614   \n",
       "1             -7821.019554                     0.054673        0.564990   \n",
       "2            -12243.044232                     0.261238        0.505998   \n",
       "3             -8563.154516                     0.191336        0.525734   \n",
       "4             -6980.002306                     0.121968        0.202145   \n",
       "\n",
       "   EXT_SOURCE_2_x  EXT_SOURCE_1 EXT_SOURCE_3  EXT_SOURCE_2^2  \\\n",
       "0        0.789654                   0.120057        0.623554   \n",
       "1        0.291656                   0.244619        0.085063   \n",
       "2        0.699787                   0.309160        0.489702   \n",
       "3        0.509677                   0.322119        0.259771   \n",
       "4        0.425687                   0.108203        0.181210   \n",
       "\n",
       "   DAYS_BIRTH EXT_SOURCE_1 EXT_SOURCE_3  \n",
       "0                          -2310.011305  \n",
       "1                          -4418.799416  \n",
       "2                          -6194.955045  \n",
       "3                          -4501.941285  \n",
       "4                          -1410.972511  \n",
       "\n",
       "[5 rows x 39 columns]"
      ]
     },
     "execution_count": 24,
     "metadata": {},
     "output_type": "execute_result"
    }
   ],
   "source": [
    "poly_test_features[get_extra_columns(test_imputed.columns.values, poly_test_features.columns.values)].head()"
   ]
  },
  {
   "cell_type": "markdown",
   "metadata": {},
   "source": [
    "See if the polynomial features have some positive or negative correlations"
   ]
  },
  {
   "cell_type": "markdown",
   "metadata": {},
   "source": [
    "#### Prediction: Regular data"
   ]
  },
  {
   "cell_type": "markdown",
   "metadata": {},
   "source": [
    "Scaling"
   ]
  },
  {
   "cell_type": "code",
   "execution_count": 25,
   "metadata": {
    "collapsed": true
   },
   "outputs": [],
   "source": [
    "scaler_regular = MinMaxScaler(feature_range=(0, 1))"
   ]
  },
  {
   "cell_type": "code",
   "execution_count": 64,
   "metadata": {},
   "outputs": [],
   "source": [
    "train_scaled = scaler_regular.fit_transform(train_imputed)\n",
    "test_scaled = scaler_regular.transform(test_imputed)"
   ]
  },
  {
   "cell_type": "markdown",
   "metadata": {},
   "source": [
    "Training"
   ]
  },
  {
   "cell_type": "code",
   "execution_count": 30,
   "metadata": {},
   "outputs": [],
   "source": [
    "model = LogisticRegression(C=0.0001)"
   ]
  },
  {
   "cell_type": "code",
   "execution_count": 31,
   "metadata": {},
   "outputs": [
    {
     "data": {
      "text/plain": [
       "LogisticRegression(C=0.0001, class_weight=None, dual=False,\n",
       "          fit_intercept=True, intercept_scaling=1, max_iter=100,\n",
       "          multi_class='ovr', n_jobs=1, penalty='l2', random_state=None,\n",
       "          solver='liblinear', tol=0.0001, verbose=0, warm_start=False)"
      ]
     },
     "execution_count": 31,
     "metadata": {},
     "output_type": "execute_result"
    }
   ],
   "source": [
    "model.fit(train_scaled, train_target)"
   ]
  },
  {
   "cell_type": "markdown",
   "metadata": {},
   "source": [
    "Prediction"
   ]
  },
  {
   "cell_type": "code",
   "execution_count": 38,
   "metadata": {
    "collapsed": true
   },
   "outputs": [],
   "source": [
    "prediction = model.predict_proba(test_scaled)"
   ]
  },
  {
   "cell_type": "code",
   "execution_count": 41,
   "metadata": {},
   "outputs": [
    {
     "data": {
      "text/plain": [
       "array([ 0.06692558,  0.12825489,  0.08436064, ...,  0.05761464,\n",
       "        0.0717017 ,  0.08816803])"
      ]
     },
     "execution_count": 41,
     "metadata": {},
     "output_type": "execute_result"
    }
   ],
   "source": [
    "prediction[:,1]"
   ]
  },
  {
   "cell_type": "code",
   "execution_count": 53,
   "metadata": {},
   "outputs": [],
   "source": [
    "submit = test_features[['SK_ID_CURR']]\n",
    "submit = submit.assign(TARGET=prediction[:,1])"
   ]
  },
  {
   "cell_type": "code",
   "execution_count": 56,
   "metadata": {},
   "outputs": [
    {
     "data": {
      "text/plain": [
       "(48744, 2)"
      ]
     },
     "execution_count": 56,
     "metadata": {},
     "output_type": "execute_result"
    }
   ],
   "source": [
    "submit.shape"
   ]
  },
  {
   "cell_type": "code",
   "execution_count": 54,
   "metadata": {},
   "outputs": [
    {
     "data": {
      "text/html": [
       "<div>\n",
       "<style>\n",
       "    .dataframe thead tr:only-child th {\n",
       "        text-align: right;\n",
       "    }\n",
       "\n",
       "    .dataframe thead th {\n",
       "        text-align: left;\n",
       "    }\n",
       "\n",
       "    .dataframe tbody tr th {\n",
       "        vertical-align: top;\n",
       "    }\n",
       "</style>\n",
       "<table border=\"1\" class=\"dataframe\">\n",
       "  <thead>\n",
       "    <tr style=\"text-align: right;\">\n",
       "      <th></th>\n",
       "      <th>SK_ID_CURR</th>\n",
       "      <th>TARGET</th>\n",
       "    </tr>\n",
       "  </thead>\n",
       "  <tbody>\n",
       "    <tr>\n",
       "      <th>0</th>\n",
       "      <td>100001</td>\n",
       "      <td>0.066926</td>\n",
       "    </tr>\n",
       "    <tr>\n",
       "      <th>1</th>\n",
       "      <td>100005</td>\n",
       "      <td>0.128255</td>\n",
       "    </tr>\n",
       "    <tr>\n",
       "      <th>2</th>\n",
       "      <td>100013</td>\n",
       "      <td>0.084361</td>\n",
       "    </tr>\n",
       "    <tr>\n",
       "      <th>3</th>\n",
       "      <td>100028</td>\n",
       "      <td>0.061052</td>\n",
       "    </tr>\n",
       "    <tr>\n",
       "      <th>4</th>\n",
       "      <td>100038</td>\n",
       "      <td>0.125410</td>\n",
       "    </tr>\n",
       "  </tbody>\n",
       "</table>\n",
       "</div>"
      ],
      "text/plain": [
       "   SK_ID_CURR    TARGET\n",
       "0      100001  0.066926\n",
       "1      100005  0.128255\n",
       "2      100013  0.084361\n",
       "3      100028  0.061052\n",
       "4      100038  0.125410"
      ]
     },
     "execution_count": 54,
     "metadata": {},
     "output_type": "execute_result"
    }
   ],
   "source": [
    "submit.head()"
   ]
  },
  {
   "cell_type": "code",
   "execution_count": 55,
   "metadata": {
    "collapsed": true
   },
   "outputs": [],
   "source": [
    "submit.to_csv('model_baseline.csv', index = False)"
   ]
  },
  {
   "cell_type": "markdown",
   "metadata": {},
   "source": [
    "Scored 0.679"
   ]
  },
  {
   "cell_type": "markdown",
   "metadata": {},
   "source": [
    "#### Predict: Polynomial features"
   ]
  },
  {
   "cell_type": "markdown",
   "metadata": {},
   "source": [
    "Scaling"
   ]
  },
  {
   "cell_type": "code",
   "execution_count": 57,
   "metadata": {
    "collapsed": true
   },
   "outputs": [],
   "source": [
    "scaler_poly = MinMaxScaler(feature_range=(0, 1))"
   ]
  },
  {
   "cell_type": "code",
   "execution_count": 58,
   "metadata": {
    "collapsed": true
   },
   "outputs": [],
   "source": [
    "train_scaled_poly = scaler_poly.fit_transform(poly_train_features)\n",
    "test_scaled_poly = scaler_poly.transform(poly_test_features)"
   ]
  },
  {
   "cell_type": "code",
   "execution_count": 59,
   "metadata": {
    "collapsed": true
   },
   "outputs": [],
   "source": [
    "model_poly = LogisticRegression(C=0.0001)"
   ]
  },
  {
   "cell_type": "markdown",
   "metadata": {},
   "source": [
    "Model training"
   ]
  },
  {
   "cell_type": "code",
   "execution_count": 60,
   "metadata": {},
   "outputs": [
    {
     "data": {
      "text/plain": [
       "LogisticRegression(C=0.0001, class_weight=None, dual=False,\n",
       "          fit_intercept=True, intercept_scaling=1, max_iter=100,\n",
       "          multi_class='ovr', n_jobs=1, penalty='l2', random_state=None,\n",
       "          solver='liblinear', tol=0.0001, verbose=0, warm_start=False)"
      ]
     },
     "execution_count": 60,
     "metadata": {},
     "output_type": "execute_result"
    }
   ],
   "source": [
    "model_poly.fit(train_scaled_poly, train_target)"
   ]
  },
  {
   "cell_type": "code",
   "execution_count": 65,
   "metadata": {
    "collapsed": true
   },
   "outputs": [],
   "source": [
    "prediction_poly = model_poly.predict_proba(test_scaled_poly)"
   ]
  },
  {
   "cell_type": "code",
   "execution_count": 68,
   "metadata": {
    "collapsed": true
   },
   "outputs": [],
   "source": [
    "submit_poly = test_features[['SK_ID_CURR']]\n",
    "submit_poly = submit.assign(TARGET=prediction_poly[:,1])"
   ]
  },
  {
   "cell_type": "code",
   "execution_count": 69,
   "metadata": {},
   "outputs": [],
   "source": [
    "submit_poly.to_csv('model_baseline_poly.csv', index = False)"
   ]
  },
  {
   "cell_type": "markdown",
   "metadata": {},
   "source": [
    "Scored 0.722"
   ]
  },
  {
   "cell_type": "code",
   "execution_count": null,
   "metadata": {
    "collapsed": true
   },
   "outputs": [],
   "source": []
  }
 ],
 "metadata": {
  "kernelspec": {
   "display_name": "Python 3",
   "language": "python",
   "name": "python3"
  },
  "language_info": {
   "codemirror_mode": {
    "name": "ipython",
    "version": 3
   },
   "file_extension": ".py",
   "mimetype": "text/x-python",
   "name": "python",
   "nbconvert_exporter": "python",
   "pygments_lexer": "ipython3",
   "version": "3.6.3"
  }
 },
 "nbformat": 4,
 "nbformat_minor": 2
}
